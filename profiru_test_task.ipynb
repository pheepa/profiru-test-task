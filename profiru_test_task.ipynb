{
  "nbformat": 4,
  "nbformat_minor": 0,
  "metadata": {
    "colab": {
      "name": "profiru_test_task.ipynb",
      "provenance": []
    },
    "kernelspec": {
      "name": "python3",
      "display_name": "Python 3"
    },
    "language_info": {
      "name": "python"
    }
  },
  "cells": [
    {
      "cell_type": "markdown",
      "metadata": {
        "id": "drUlE6RwwMC9"
      },
      "source": [
        "# Тестовое задание на Junior ML Engineer в команду Матчинга в Профи (Вариант 2)\n",
        "## Абаполов Филипп"
      ]
    },
    {
      "cell_type": "markdown",
      "metadata": {
        "id": "GJZq9RbwwS_K"
      },
      "source": [
        "## Задание 1\n",
        "__Условие:__\n",
        "\n",
        "Подкинули монету N раз. Кол-во случаев, когда выпал орёл, на 10% больше, чем кол-во случаев, когда выпала решка. При каком N мы можем сказать, что монета «нечестная» (орёл и решка выпадают с разной вероятностью)?"
      ]
    },
    {
      "cell_type": "markdown",
      "metadata": {
        "id": "8Cx1ivPbwbet"
      },
      "source": [
        "__Решение__\n",
        "\n",
        "$x$ - количество выпаданий решки, тогда $1.1*x$ - количество выпаданий орла.\n",
        "$x+1.1x=2.1x=N \\Rightarrow N$ кратно 21.\n",
        "\n",
        "Возьмем уровень значимости $\\alpha = 0.05$, нулевая гипотеза $H_0$ - монетка честная.\n",
        "С помощью Python я перебираю различные N, кратные 21 и считаю p-value, используя binom\\_test из scipy.stats. И вывожу минимальное N, при котором p-value меньше критического значения $\\alpha$"
      ]
    },
    {
      "cell_type": "code",
      "metadata": {
        "colab": {
          "base_uri": "https://localhost:8080/"
        },
        "id": "cY40m78VmzIV",
        "outputId": "e760e7d1-d3fb-4466-ad3e-769f9d7550da"
      },
      "source": [
        "from scipy.stats import binom_test\n",
        "alpha = 0.05\n",
        "N = 21\n",
        "\n",
        "while True:\n",
        "    p_value = binom_test(N/2.1, N, p = 0.5)\n",
        "    if p_value < alpha:\n",
        "        print(f'N = {N}')\n",
        "        break\n",
        "    N += 21"
      ],
      "execution_count": 12,
      "outputs": [
        {
          "output_type": "stream",
          "text": [
            "N = 1743\n"
          ],
          "name": "stdout"
        }
      ]
    },
    {
      "cell_type": "markdown",
      "metadata": {
        "id": "mQ_dM7drwkcj"
      },
      "source": [
        "При $N=1743$ мы можем отвергнуть нулевую гипотезу $H_0$.\n",
        "\n",
        "Ответ:\n",
        "\n",
        "$N=1743$"
      ]
    },
    {
      "cell_type": "markdown",
      "metadata": {
        "id": "LnEkCyuywmbQ"
      },
      "source": [
        "## Задание 2\n",
        "__Условие:__\n",
        "\n",
        "Есть две монеты: «правильная» (с одной стороны орёл, с другой решка) и «неправильная» (орёл на обеих сторонах). Берём одну монету наугад и подкидываем 5 раз. Все 5 раз выпадает орёл. Какова вероятность того, что выбрали «правильную» монету?"
      ]
    },
    {
      "cell_type": "markdown",
      "metadata": {
        "id": "icRKijX9wug1"
      },
      "source": [
        "__Решение:__\n",
        "\n",
        "$A$ - взяли правильную монету, $P(A)=\\frac{2}{3}$, $\\overline{A}$ - взяли неправильную монету, $P(\\overline{A})=\\frac{1}{3}$.\n",
        "\n",
        "$X$ - выпало 5 орлов подряд.\n",
        "\n",
        "Тогда $P(X|A)=0.5^5$, $P(X|\\overline{A})=1$\n",
        "\n",
        "По формуле полной вероятности:\n",
        "$$P(X)=P(X|A)P(A)+P(X|\\overline{A})P(\\overline{A})=\\frac{2}{3}0.5^5+\\frac{1}{3}1=\\frac{17}{48}$$\n",
        "\n",
        "Тогда:\n",
        "\n",
        "$$P(A|X)=\\frac{P(X|A)*P(A)}{P(X)}=\\frac{0.5^5\\frac{2}{3}}{\\frac{17}{48}}=\\frac{1}{17}\\approx 0.0588$$\n",
        "\n",
        "Ответ:\n",
        "\n",
        "$P(A|X)\\approx 0.0588$"
      ]
    }
  ]
}